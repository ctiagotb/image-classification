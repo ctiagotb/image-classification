{
 "cells": [
  {
   "cell_type": "markdown",
   "metadata": {
    "collapsed": true,
    "deletable": true,
    "editable": true
   },
   "source": [
    "# Image Classification\n",
    "In this project, you'll classify images from the [CIFAR-10 dataset](https://www.cs.toronto.edu/~kriz/cifar.html).  The dataset consists of airplanes, dogs, cats, and other objects. You'll preprocess the images, then train a convolutional neural network on all the samples. The images need to be normalized and the labels need to be one-hot encoded.  You'll get to apply what you learned and build a convolutional, max pooling, dropout, and fully connected layers.  At the end, you'll get to see your neural network's predictions on the sample images.\n",
    "## Get the Data\n",
    "Run the following cell to download the [CIFAR-10 dataset for python](https://www.cs.toronto.edu/~kriz/cifar-10-python.tar.gz)."
   ]
  },
  {
   "cell_type": "code",
   "execution_count": 1,
   "metadata": {
    "collapsed": false,
    "deletable": true,
    "editable": true
   },
   "outputs": [
    {
     "name": "stdout",
     "output_type": "stream",
     "text": [
      "All files found!\n"
     ]
    }
   ],
   "source": [
    "\"\"\"\n",
    "DON'T MODIFY ANYTHING IN THIS CELL THAT IS BELOW THIS LINE\n",
    "\"\"\"\n",
    "from urllib.request import urlretrieve\n",
    "from os.path import isfile, isdir\n",
    "from tqdm import tqdm\n",
    "import problem_unittests as tests\n",
    "import tarfile\n",
    "\n",
    "cifar10_dataset_folder_path = 'cifar-10-batches-py'\n",
    "\n",
    "# Use Floyd's cifar-10 dataset if present\n",
    "floyd_cifar10_location = '/input/cifar-10/python.tar.gz'\n",
    "if isfile(floyd_cifar10_location):\n",
    "    tar_gz_path = floyd_cifar10_location\n",
    "else:\n",
    "    tar_gz_path = 'cifar-10-python.tar.gz'\n",
    "\n",
    "class DLProgress(tqdm):\n",
    "    last_block = 0\n",
    "\n",
    "    def hook(self, block_num=1, block_size=1, total_size=None):\n",
    "        self.total = total_size\n",
    "        self.update((block_num - self.last_block) * block_size)\n",
    "        self.last_block = block_num\n",
    "\n",
    "if not isfile(tar_gz_path):\n",
    "    with DLProgress(unit='B', unit_scale=True, miniters=1, desc='CIFAR-10 Dataset') as pbar:\n",
    "        urlretrieve(\n",
    "            'https://www.cs.toronto.edu/~kriz/cifar-10-python.tar.gz',\n",
    "            tar_gz_path,\n",
    "            pbar.hook)\n",
    "\n",
    "if not isdir(cifar10_dataset_folder_path):\n",
    "    with tarfile.open(tar_gz_path) as tar:\n",
    "        tar.extractall()\n",
    "        tar.close()\n",
    "\n",
    "\n",
    "tests.test_folder_path(cifar10_dataset_folder_path)"
   ]
  },
  {
   "cell_type": "markdown",
   "metadata": {
    "deletable": true,
    "editable": true
   },
   "source": [
    "## Explore the Data\n",
    "The dataset is broken into batches to prevent your machine from running out of memory.  The CIFAR-10 dataset consists of 5 batches, named `data_batch_1`, `data_batch_2`, etc.. Each batch contains the labels and images that are one of the following:\n",
    "* airplane\n",
    "* automobile\n",
    "* bird\n",
    "* cat\n",
    "* deer\n",
    "* dog\n",
    "* frog\n",
    "* horse\n",
    "* ship\n",
    "* truck\n",
    "\n",
    "Understanding a dataset is part of making predictions on the data.  Play around with the code cell below by changing the `batch_id` and `sample_id`. The `batch_id` is the id for a batch (1-5). The `sample_id` is the id for a image and label pair in the batch.\n",
    "\n",
    "Ask yourself \"What are all possible labels?\", \"What is the range of values for the image data?\", \"Are the labels in order or random?\".  Answers to questions like these will help you preprocess the data and end up with better predictions."
   ]
  },
  {
   "cell_type": "code",
   "execution_count": 3,
   "metadata": {
    "collapsed": false,
    "deletable": true,
    "editable": true
   },
   "outputs": [
    {
     "name": "stdout",
     "output_type": "stream",
     "text": [
      "\n",
      "Stats of batch 5:\n",
      "Samples: 10000\n",
      "Label Counts: {0: 1014, 1: 1014, 2: 952, 3: 1016, 4: 997, 5: 1025, 6: 980, 7: 977, 8: 1003, 9: 1022}\n",
      "First 20 Labels: [1, 8, 5, 1, 5, 7, 4, 3, 8, 2, 7, 2, 0, 1, 5, 9, 6, 2, 0, 8]\n",
      "\n",
      "Example of Image 5:\n",
      "Image - Min Value: 1 Max Value: 255\n",
      "Image - Shape: (32, 32, 3)\n",
      "Label - Label Id: 7 Name: horse\n"
     ]
    },
    {
     "data": {
      "image/png": "[encoded data removed]",
      "text/plain": [
       "<matplotlib.figure.Figure at 0x7f5e802009b0>"
      ]
     },
     "metadata": {
      "image/png": {
       "height": 250,
       "width": 253
      }
     },
     "output_type": "display_data"
    }
   ],
   "source": [
    "%matplotlib inline\n",
    "%config InlineBackend.figure_format = 'retina'\n",
    "\n",
    "import helper\n",
    "import numpy as np\n",
    "\n",
    "# Explore the dataset\n",
    "batch_id = 5\n",
    "sample_id = 5\n",
    "helper.display_stats(cifar10_dataset_folder_path, batch_id, sample_id)"
   ]
  },
  {
   "cell_type": "markdown",
   "metadata": {
    "deletable": true,
    "editable": true
   },
   "source": [
    "## Implement Preprocess Functions\n",
    "### Normalize\n",
    "In the cell below, implement the `normalize` function to take in image data, `x`, and return it as a normalized Numpy array. The values should be in the range of 0 to 1, inclusive.  The return object should be the same shape as `x`."
   ]
  },
  {
   "cell_type": "code",
   "execution_count": 4,
   "metadata": {
    "collapsed": false,
    "deletable": true,
    "editable": true
   },
   "outputs": [
    {
     "name": "stdout",
     "output_type": "stream",
     "text": [
      "Tests Passed\n"
     ]
    }
   ],
   "source": [
    "def normalize(x):\n",
    "    \"\"\"\n",
    "    Normalize a list of sample image data in the range of 0 to 1\n",
    "    : x: List of image data.  The image shape is (32, 32, 3)\n",
    "    : return: Numpy array of normalize data\n",
    "    \"\"\"\n",
    "    # TODO: Implement Function\n",
    "    return x/255\n",
    "\n",
    "\n",
    "\"\"\"\n",
    "DON'T MODIFY ANYTHING IN THIS CELL THAT IS BELOW THIS LINE\n",
    "\"\"\"\n",
    "tests.test_normalize(normalize)"
   ]
  },
  {
   "cell_type": "markdown",
   "metadata": {
    "deletable": true,
    "editable": true
   },
   "source": [
    "### One-hot encode\n",
    "Just like the previous code cell, you'll be implementing a function for preprocessing.  This time, you'll implement the `one_hot_encode` function. The input, `x`, are a list of labels.  Implement the function to return the list of labels as One-Hot encoded Numpy array.  The possible values for labels are 0 to 9. The one-hot encoding function should return the same encoding for each value between each call to `one_hot_encode`.  Make sure to save the map of encodings outside the function.\n",
    "\n",
    "Hint: Don't reinvent the wheel."
   ]
  },
  {
   "cell_type": "code",
   "execution_count": 12,
   "metadata": {
    "collapsed": false,
    "deletable": true,
    "editable": true
   },
   "outputs": [
    {
     "name": "stdout",
     "output_type": "stream",
     "text": [
      "Tests Passed\n"
     ]
    }
   ],
   "source": [
    "def one_hot_encode(x):\n",
    "    \"\"\"\n",
    "    One hot encode a list of sample labels. Return a one-hot encoded vector for each label.\n",
    "    : x: List of sample Labels\n",
    "    : return: Numpy array of one-hot encoded labels\n",
    "    \"\"\"\n",
    "    y = np.zeros((len(x), 10))\n",
    "    for i in range(len(x)):\n",
    "        y[i, x[i]] = 1\n",
    "    return y\n",
    "\n",
    "\n",
    "\"\"\"\n",
    "DON'T MODIFY ANYTHING IN THIS CELL THAT IS BELOW THIS LINE\n",
    "\"\"\"\n",
    "tests.test_one_hot_encode(one_hot_encode)"
   ]
  },
  {
   "cell_type": "markdown",
   "metadata": {
    "deletable": true,
    "editable": true
   },
   "source": [
    "### Randomize Data\n",
    "As you saw from exploring the data above, the order of the samples are randomized.  It doesn't hurt to randomize it again, but you don't need to for this dataset."
   ]
  },
  {
   "cell_type": "markdown",
   "metadata": {
    "deletable": true,
    "editable": true
   },
   "source": [
    "## Preprocess all the data and save it\n",
    "Running the code cell below will preprocess all the CIFAR-10 data and save it to file. The code below also uses 10% of the training data for validation."
   ]
  },
  {
   "cell_type": "code",
   "execution_count": 13,
   "metadata": {
    "collapsed": false,
    "deletable": true,
    "editable": true
   },
   "outputs": [],
   "source": [
    "\"\"\"\n",
    "DON'T MODIFY ANYTHING IN THIS CELL\n",
    "\"\"\"\n",
    "# Preprocess Training, Validation, and Testing Data\n",
    "helper.preprocess_and_save_data(cifar10_dataset_folder_path, normalize, one_hot_encode)"
   ]
  },
  {
   "cell_type": "markdown",
   "metadata": {
    "deletable": true,
    "editable": true
   },
   "source": [
    "# Check Point\n",
    "This is your first checkpoint.  If you ever decide to come back to this notebook or have to restart the notebook, you can start from here.  The preprocessed data has been saved to disk."
   ]
  },
  {
   "cell_type": "code",
   "execution_count": 260,
   "metadata": {
    "collapsed": false,
    "deletable": true,
    "editable": true
   },
   "outputs": [
    {
     "name": "stdout",
     "output_type": "stream",
     "text": [
      "[ 0.  0.  0.  0.  0.  0.  1.  0.  0.  0.]\n"
     ]
    }
   ],
   "source": [
    "\"\"\"\n",
    "DON'T MODIFY ANYTHING IN THIS CELL\n",
    "\"\"\"\n",
    "import pickle\n",
    "import problem_unittests as tests\n",
    "import helper\n",
    "\n",
    "# Load the Preprocessed Validation data\n",
    "valid_features, valid_labels = pickle.load(open('preprocess_validation.p', mode='rb'))\n",
    "#print(valid_features[10])\n",
    "print(valid_labels[1000])"
   ]
  },
  {
   "cell_type": "markdown",
   "metadata": {
    "deletable": true,
    "editable": true
   },
   "source": [
    "## Build the network\n",
    "For the neural network, you'll build each layer into a function.  Most of the code you've seen has been outside of functions. To test your code more thoroughly, we require that you put each layer in a function.  This allows us to give you better feedback and test for simple mistakes using our unittests before you submit your project.\n",
    "\n",
    ">**Note:** If you're finding it hard to dedicate enough time for this course each week, we've provided a small shortcut to this part of the project. In the next couple of problems, you'll have the option to use classes from the [TensorFlow Layers](https://www.tensorflow.org/api_docs/python/tf/layers) or [TensorFlow Layers (contrib)](https://www.tensorflow.org/api_guides/python/contrib.layers) packages to build each layer, except the layers you build in the \"Convolutional and Max Pooling Layer\" section.  TF Layers is similar to Keras's and TFLearn's abstraction to layers, so it's easy to pickup.\n",
    "\n",
    ">However, if you would like to get the most out of this course, try to solve all the problems _without_ using anything from the TF Layers packages. You **can** still use classes from other packages that happen to have the same name as ones you find in TF Layers! For example, instead of using the TF Layers version of the `conv2d` class, [tf.layers.conv2d](https://www.tensorflow.org/api_docs/python/tf/layers/conv2d), you would want to use the TF Neural Network version of `conv2d`, [tf.nn.conv2d](https://www.tensorflow.org/api_docs/python/tf/nn/conv2d). \n",
    "\n",
    "Let's begin!\n",
    "\n",
    "### Input\n",
    "The neural network needs to read the image data, one-hot encoded labels, and dropout keep probability. Implement the following functions\n",
    "* Implement `neural_net_image_input`\n",
    " * Return a [TF Placeholder](https://www.tensorflow.org/api_docs/python/tf/placeholder)\n",
    " * Set the shape using `image_shape` with batch size set to `None`.\n",
    " * Name the TensorFlow placeholder \"x\" using the TensorFlow `name` parameter in the [TF Placeholder](https://www.tensorflow.org/api_docs/python/tf/placeholder).\n",
    "* Implement `neural_net_label_input`\n",
    " * Return a [TF Placeholder](https://www.tensorflow.org/api_docs/python/tf/placeholder)\n",
    " * Set the shape using `n_classes` with batch size set to `None`.\n",
    " * Name the TensorFlow placeholder \"y\" using the TensorFlow `name` parameter in the [TF Placeholder](https://www.tensorflow.org/api_docs/python/tf/placeholder).\n",
    "* Implement `neural_net_keep_prob_input`\n",
    " * Return a [TF Placeholder](https://www.tensorflow.org/api_docs/python/tf/placeholder) for dropout keep probability.\n",
    " * Name the TensorFlow placeholder \"keep_prob\" using the TensorFlow `name` parameter in the [TF Placeholder](https://www.tensorflow.org/api_docs/python/tf/placeholder).\n",
    "\n",
    "These names will be used at the end of the project to load your saved model.\n",
    "\n",
    "Note: `None` for shapes in TensorFlow allow for a dynamic size."
   ]
  },
  {
   "cell_type": "code",
   "execution_count": 261,
   "metadata": {
    "collapsed": false,
    "deletable": true,
    "editable": true
   },
   "outputs": [
    {
     "name": "stdout",
     "output_type": "stream",
     "text": [
      "Image Input Tests Passed.\n",
      "Label Input Tests Passed.\n",
      "Keep Prob Tests Passed.\n"
     ]
    }
   ],
   "source": [
    "import tensorflow as tf\n",
    "\n",
    "def neural_net_image_input(image_shape):\n",
    "    \"\"\"\n",
    "    Return a Tensor for a bach of image input\n",
    "    : image_shape: Shape of the images\n",
    "    : return: Tensor for image input.\n",
    "    \"\"\"\n",
    "    # TODO: Implement Function\n",
    "    x = tf.placeholder(tf.float32, shape=[None, image_shape[0], image_shape[1], image_shape[2]], name=\"x\")\n",
    "    return x\n",
    "\n",
    "\n",
    "def neural_net_label_input(n_classes):\n",
    "    \"\"\"\n",
    "    Return a Tensor for a batch of label input\n",
    "    : n_classes: Number of classes\n",
    "    : return: Tensor for label input.\n",
    "    \"\"\"\n",
    "    # TODO: Implement Function\n",
    "    y = tf.placeholder(tf.float32, shape=[None, n_classes], name=\"y\")\n",
    "    return y\n",
    "\n",
    "\n",
    "def neural_net_keep_prob_input():\n",
    "    \"\"\"\n",
    "    Return a Tensor for keep probability\n",
    "    : return: Tensor for keep probability.\n",
    "    \"\"\"\n",
    "    # TODO: Implement Function\n",
    "    prob = tf.placeholder(tf.float32, None, name=\"keep_prob\")\n",
    "    return prob    \n",
    "\n",
    "\n",
    "\"\"\"\n",
    "DON'T MODIFY ANYTHING IN THIS CELL THAT IS BELOW THIS LINE\n",
    "\"\"\"\n",
    "tf.reset_default_graph()\n",
    "tests.test_nn_image_inputs(neural_net_image_input)\n",
    "tests.test_nn_label_inputs(neural_net_label_input)\n",
    "tests.test_nn_keep_prob_inputs(neural_net_keep_prob_input)"
   ]
  },
  {
   "cell_type": "markdown",
   "metadata": {
    "deletable": true,
    "editable": true
   },
   "source": [
    "### Convolution and Max Pooling Layer\n",
    "Convolution layers have a lot of success with images. For this code cell, you should implement the function `conv2d_maxpool` to apply convolution then max pooling:\n",
    "* Create the weight and bias using `conv_ksize`, `conv_num_outputs` and the shape of `x_tensor`.\n",
    "* Apply a convolution to `x_tensor` using weight and `conv_strides`.\n",
    " * We recommend you use same padding, but you're welcome to use any padding.\n",
    "* Add bias\n",
    "* Add a nonlinear activation to the convolution.\n",
    "* Apply Max Pooling using `pool_ksize` and `pool_strides`.\n",
    " * We recommend you use same padding, but you're welcome to use any padding.\n",
    "\n",
    "**Note:** You **can't** use [TensorFlow Layers](https://www.tensorflow.org/api_docs/python/tf/layers) or [TensorFlow Layers (contrib)](https://www.tensorflow.org/api_guides/python/contrib.layers) for **this** layer, but you can still use TensorFlow's [Neural Network](https://www.tensorflow.org/api_docs/python/tf/nn) package. You may still use the shortcut option for all the **other** layers."
   ]
  },
  {
   "cell_type": "code",
   "execution_count": 333,
   "metadata": {
    "collapsed": false,
    "deletable": true,
    "editable": true
   },
   "outputs": [
    {
     "name": "stdout",
     "output_type": "stream",
     "text": [
      "[2, 2, 5, 10]\n",
      "Tests Passed\n"
     ]
    }
   ],
   "source": [
    "def conv2d_maxpool(x_tensor, conv_num_outputs, conv_ksize, conv_strides, pool_ksize, pool_strides):\n",
    "    \"\"\"\n",
    "    Apply convolution then max pooling to x_tensor\n",
    "    :param x_tensor: TensorFlow Tensor\n",
    "    :param conv_num_outputs: Number of outputs for the convolutional layer\n",
    "    :param conv_ksize: kernal size 2-D Tuple for the convolutional layer\n",
    "    :param conv_strides: Stride 2-D Tuple for convolution\n",
    "    :param pool_ksize: kernal size 2-D Tuple for pool\n",
    "    :param pool_strides: Stride 2-D Tuple for pool\n",
    "    : return: A tensor that represents convolution and max pooling of x_tensor\n",
    "    \"\"\"\n",
    "    # TODO: Implement Function\n",
    "    num_input_channels = x_tensor.get_shape().as_list()[-1]        \n",
    "    dimension = x_tensor.get_shape().as_list()\n",
    "    shape = [conv_ksize[0], conv_ksize[1], num_input_channels, conv_num_outputs]\n",
    "    shape = list(conv_ksize + (dimension[-1],) + (conv_num_outputs,))\n",
    "    print(shape)\n",
    "    \n",
    "    #weights = tf.Variable(tf.random_uniform(shape, minval=0, maxval=1)) \n",
    "    weights = tf.Variable(tf.truncated_normal(shape,0,0.1))\n",
    "    \n",
    "    #b_cnn_l1 = tf.Variable(tf.random_uniform([conv_num_outputs], minval=-1, maxval=1), name='b_cnn_l')\n",
    "    # Since the weights are already helping prevent the model from getting stuck, you don't need to \n",
    "    # randomize the bias. Let's use the simplest solution, setting the bias to 0.\n",
    "    bias = tf.Variable(tf.zeros(conv_num_outputs))\n",
    "\n",
    "    conv_l = tf.nn.conv2d(x_tensor, weights, (1, conv_strides[0], conv_strides[1], 1), 'SAME') \n",
    "    conv_l = tf.nn.bias_add(conv_l, bias)\n",
    "    conv_l = tf.nn.relu(conv_l)\n",
    "    \n",
    "    conv_l_max_pooling = tf.nn.max_pool(value=conv_l,  ksize=[1, pool_ksize[0], pool_ksize[1], 1],  \n",
    "                                        strides=[1, pool_strides[0], pool_strides[1], 1], padding='SAME')\n",
    "          \n",
    "   \n",
    "        \n",
    "    return conv_l_max_pooling\n",
    "\n",
    "\n",
    "\"\"\"\n",
    "DON'T MODIFY ANYTHING IN THIS CELL THAT IS BELOW THIS LINE\n",
    "\"\"\"\n",
    "tests.test_con_pool(conv2d_maxpool)"
   ]
  },
  {
   "cell_type": "markdown",
   "metadata": {
    "deletable": true,
    "editable": true
   },
   "source": [
    "### Flatten Layer\n",
    "Implement the `flatten` function to change the dimension of `x_tensor` from a 4-D tensor to a 2-D tensor.  The output should be the shape (*Batch Size*, *Flattened Image Size*). Shortcut option: you can use classes from the [TensorFlow Layers](https://www.tensorflow.org/api_docs/python/tf/layers) or [TensorFlow Layers (contrib)](https://www.tensorflow.org/api_guides/python/contrib.layers) packages for this layer. For more of a challenge, only use other TensorFlow packages."
   ]
  },
  {
   "cell_type": "code",
   "execution_count": 334,
   "metadata": {
    "collapsed": false,
    "deletable": true,
    "editable": true
   },
   "outputs": [
    {
     "name": "stdout",
     "output_type": "stream",
     "text": [
      "Tests Passed\n"
     ]
    }
   ],
   "source": [
    "def flatten(x_tensor):\n",
    "    \"\"\"\n",
    "    Flatten x_tensor to (Batch Size, Flattened Image Size)\n",
    "    : x_tensor: A tensor of size (Batch Size, ...), where ... are the image dimensions.\n",
    "    : return: A tensor of size (Batch Size, Flattened Image Size).\n",
    "    \"\"\"\n",
    "    # TODO: Implement Function\n",
    "    shape = x_tensor.get_shape().as_list()      \n",
    "    prod_dim = shape[1] * shape[2] * shape[3]    \n",
    "    x_flat = tf.reshape(x_tensor, [-1, prod_dim])\n",
    "\n",
    "    return x_flat\n",
    "\n",
    "\n",
    "\"\"\"\n",
    "DON'T MODIFY ANYTHING IN THIS CELL THAT IS BELOW THIS LINE\n",
    "\"\"\"\n",
    "tests.test_flatten(flatten)"
   ]
  },
  {
   "cell_type": "markdown",
   "metadata": {
    "deletable": true,
    "editable": true
   },
   "source": [
    "### Fully-Connected Layer\n",
    "Implement the `fully_conn` function to apply a fully connected layer to `x_tensor` with the shape (*Batch Size*, *num_outputs*). Shortcut option: you can use classes from the [TensorFlow Layers](https://www.tensorflow.org/api_docs/python/tf/layers) or [TensorFlow Layers (contrib)](https://www.tensorflow.org/api_guides/python/contrib.layers) packages for this layer. For more of a challenge, only use other TensorFlow packages."
   ]
  },
  {
   "cell_type": "code",
   "execution_count": 335,
   "metadata": {
    "collapsed": false,
    "deletable": true,
    "editable": true
   },
   "outputs": [
    {
     "name": "stdout",
     "output_type": "stream",
     "text": [
      "Tests Passed\n"
     ]
    }
   ],
   "source": [
    "def fully_conn(x_tensor, num_outputs):\n",
    "    \"\"\"\n",
    "    Apply a fully connected layer to x_tensor using weight and bias\n",
    "    : x_tensor: A 2-D tensor where the first dimension is batch size.\n",
    "    : num_outputs: The number of output that the new tensor should be.\n",
    "    : return: A 2-D tensor where the second dimension is num_outputs.\n",
    "    \"\"\"\n",
    "    # TODO: Implement Function\n",
    "    shape = x_tensor.get_shape().as_list()           \n",
    "    \n",
    "    #weights = tf.Variable(tf.random_uniform([shape[-1], num_outputs], minval=-1, maxval=1))\n",
    "    weights = tf.Variable(tf.truncated_normal([shape[-1], num_outputs],0,0.1))\n",
    "    #bias = tf.Variable(tf.random_uniform([num_outputs], minval=-1, maxval=1))\n",
    "    bias = tf.Variable(tf.zeros(num_outputs))\n",
    "    \n",
    "    fcl = tf.matmul(x_tensor, weights)\n",
    "    fcl = tf.add(fcl, bias)\n",
    "    fcl = tf.nn.relu(fcl)\n",
    "    \n",
    "    return fcl\n",
    "\n",
    "\n",
    "\"\"\"\n",
    "DON'T MODIFY ANYTHING IN THIS CELL THAT IS BELOW THIS LINE\n",
    "\"\"\"\n",
    "tests.test_fully_conn(fully_conn)"
   ]
  },
  {
   "cell_type": "markdown",
   "metadata": {
    "deletable": true,
    "editable": true
   },
   "source": [
    "### Output Layer\n",
    "Implement the `output` function to apply a fully connected layer to `x_tensor` with the shape (*Batch Size*, *num_outputs*). Shortcut option: you can use classes from the [TensorFlow Layers](https://www.tensorflow.org/api_docs/python/tf/layers) or [TensorFlow Layers (contrib)](https://www.tensorflow.org/api_guides/python/contrib.layers) packages for this layer. For more of a challenge, only use other TensorFlow packages.\n",
    "\n",
    "**Note:** Activation, softmax, or cross entropy should **not** be applied to this."
   ]
  },
  {
   "cell_type": "code",
   "execution_count": 336,
   "metadata": {
    "collapsed": false,
    "deletable": true,
    "editable": true
   },
   "outputs": [
    {
     "name": "stdout",
     "output_type": "stream",
     "text": [
      "Tests Passed\n"
     ]
    }
   ],
   "source": [
    "def output(x_tensor, num_outputs):\n",
    "    \"\"\"\n",
    "    Apply a output layer to x_tensor using weight and bias\n",
    "    : x_tensor: A 2-D tensor where the first dimension is batch size.\n",
    "    : num_outputs: The number of output that the new tensor should be.\n",
    "    : return: A 2-D tensor where the second dimension is num_outputs.\n",
    "    \"\"\"\n",
    "    # TODO: Implement Function\n",
    "    shape = x_tensor.get_shape().as_list()     \n",
    "    #weights = tf.Variable(tf.random_uniform([shape[1], num_outputs], minval=-1, maxval=1))\n",
    "    weights = tf.Variable(tf.truncated_normal([shape[-1], num_outputs],0,0.1))\n",
    "    bias = tf.Variable(tf.zeros(num_outputs))\n",
    "    xw = tf.matmul(x_tensor, weights)\n",
    "    output = tf.add(xw, bias)\n",
    "    \n",
    "    return output\n",
    "\n",
    "\n",
    "\"\"\"\n",
    "DON'T MODIFY ANYTHING IN THIS CELL THAT IS BELOW THIS LINE\n",
    "\"\"\"\n",
    "tests.test_output(output)"
   ]
  },
  {
   "cell_type": "markdown",
   "metadata": {
    "deletable": true,
    "editable": true
   },
   "source": [
    "### Create Convolutional Model\n",
    "Implement the function `conv_net` to create a convolutional neural network model. The function takes in a batch of images, `x`, and outputs logits.  Use the layers you created above to create this model:\n",
    "\n",
    "* Apply 1, 2, or 3 Convolution and Max Pool layers\n",
    "* Apply a Flatten Layer\n",
    "* Apply 1, 2, or 3 Fully Connected Layers\n",
    "* Apply an Output Layer\n",
    "* Return the output\n",
    "* Apply [TensorFlow's Dropout](https://www.tensorflow.org/api_docs/python/tf/nn/dropout) to one or more layers in the model using `keep_prob`. "
   ]
  },
  {
   "cell_type": "code",
   "execution_count": 373,
   "metadata": {
    "collapsed": false,
    "deletable": true,
    "editable": true
   },
   "outputs": [
    {
     "name": "stdout",
     "output_type": "stream",
     "text": [
      "[5, 5, 3, 64]\n",
      "[5, 5, 3, 64]\n",
      "Neural Network Built!\n"
     ]
    }
   ],
   "source": [
    "def conv_net(x, keep_prob):\n",
    "    n_layers = 1\n",
    "    n_fc_layers = 2\n",
    "    \"\"\"\n",
    "    Create a convolutional neural network model\n",
    "    : x: Placeholder tensor that holds image data.\n",
    "    : keep_prob: Placeholder tensor that hold dropout keep probability.\n",
    "    : return: Tensor that represents logits\n",
    "    \"\"\"\n",
    "    # TODO: Apply 1, 2, or 3 Convolution and Max Pool layers\n",
    "    #    Play around with different number of outputs, kernel size and stride\n",
    "    # Function Definition from Above:\n",
    "    #    conv2d_maxpool(x_tensor, conv_num_outputs, conv_ksize, conv_strides, pool_ksize, pool_strides)\n",
    "    if n_layers == 1:\n",
    "        x_tensor = conv2d_maxpool(x, 64, (5,5), (1,1), (2, 2), (1, 1))   \n",
    "    elif n_layers == 2:\n",
    "        x_tensor = conv2d_maxpool(x, 32, (5,5), (1,1), (2, 2), (1, 1))   \n",
    "        x_tensor = conv2d_maxpool(x_tensor, 64, (3,3), (1,1), (2, 2), (1, 1))\n",
    "    elif n_layers == 3:    \n",
    "        x_tensor = conv2d_maxpool(x,        32, (8,8), (1,1), (4, 4), (1, 1))   \n",
    "        x_tensor = conv2d_maxpool(x_tensor, 20, (6,6), (1,1), (2, 2), (1, 1))\n",
    "        x_tensor = conv2d_maxpool(x_tensor, 12, (2,2), (1,1), (2, 2), (1, 1))\n",
    "    else:\n",
    "        x_tensor = conv2d_maxpool(x,        16, (5,5), (1,1), (1, 1), (1, 1))   \n",
    "        #x_tensor = conv2d_maxpool(x_tensor, 16, (5,5), (1,1), (1, 1), (1, 1))\n",
    "        #x_tensor = conv2d_maxpool(x_tensor, 32, (5,5), (1,1), (1, 1), (1, 1))\n",
    "        x_tensor = conv2d_maxpool(x_tensor, 32, (5,5), (1,1), (1, 1), (1, 1))\n",
    "        #x_tensor = conv2d_maxpool(x_tensor, 128, (5,5), (1,1), (1, 1), (1, 1))\n",
    "        x_tensor = conv2d_maxpool(x_tensor, 128, (5,5), (1,1), (1, 1), (2, 2))\n",
    "        x_tensor = conv2d_maxpool(x_tensor, 256, (5,5), (1,1), (1, 1), (1, 1))\n",
    "        #x_tensor = conv2d_maxpool(x_tensor, 256, (5,5), (1,1), (1, 1), (1, 1))\n",
    "        x_tensor = conv2d_maxpool(x_tensor, 256, (5,5), (1,1), (1, 1), (4, 4))\n",
    "        #x_tensor = conv2d_maxpool(x_tensor, 256, (5,5), (1,1), (2, 2), (1, 1))\n",
    "        #x_tensor = conv2d_maxpool(x_tensor, 256, (5,5), (1,1), (2, 2), (1, 1))\n",
    "\n",
    "    x_tensor = tf.nn.dropout(x_tensor, keep_prob)\n",
    "\n",
    "    # TODO: Apply a Flatten Layer\n",
    "    # Function Definition from Above:\n",
    "    #   flatten(x_tensor)\n",
    "    \n",
    "    x_tensor = flatten(x_tensor)\n",
    "\n",
    "    # TODO: Apply 1, 2, or 3 Fully Connected Layers\n",
    "    #    Play around with different number of outputs\n",
    "    # Function Definition from Above:\n",
    "    #   fully_conn(x_tensor, num_outputs)\n",
    "    \n",
    "    if n_fc_layers == 1:\n",
    "        x_tensor = fully_conn(x_tensor, 128)\n",
    "    elif n_fc_layers == 2:\n",
    "        x_tensor = fully_conn(x_tensor, 256)\n",
    "        x_tensor = tf.nn.dropout(x_tensor, keep_prob)        \n",
    "        x_tensor = fully_conn(x_tensor, 256)\n",
    "    else:\n",
    "        x_tensor = fully_conn(x_tensor, 32)\n",
    "        \n",
    "    x_tensor = tf.nn.dropout(x_tensor, keep_prob)        \n",
    "        \n",
    "    \n",
    "    # TODO: Apply an Output Layer\n",
    "    #    Set this to the number of classes\n",
    "    # Function Definition from Above:\n",
    "    #   output(x_tensor, num_outputs)\n",
    "    \n",
    "    y = output(x_tensor, 10)            \n",
    "    \n",
    "    \n",
    "    # TODO: return output\n",
    "    return y\n",
    "\n",
    "\"\"\"\n",
    "DON'T MODIFY ANYTHING IN THIS CELL THAT IS BELOW THIS LINE\n",
    "\"\"\"\n",
    "\n",
    "##############################\n",
    "## Build the Neural Network ##\n",
    "##############################\n",
    "\n",
    "# Remove previous weights, bias, inputs, etc..\n",
    "tf.reset_default_graph()\n",
    "\n",
    "# Inputs\n",
    "x = neural_net_image_input((32, 32, 3))\n",
    "y = neural_net_label_input(10)\n",
    "keep_prob = neural_net_keep_prob_input()\n",
    "\n",
    "# Model\n",
    "logits = conv_net(x, keep_prob)\n",
    "\n",
    "# Name logits Tensor, so that is can be loaded from disk after training\n",
    "logits = tf.identity(logits, name='logits')\n",
    "\n",
    "# Loss and Optimizer\n",
    "cost = tf.reduce_mean(tf.nn.softmax_cross_entropy_with_logits(logits=logits, labels=y))\n",
    "optimizer = tf.train.AdamOptimizer().minimize(cost)\n",
    "\n",
    "# Accuracy\n",
    "correct_pred = tf.equal(tf.argmax(logits, 1), tf.argmax(y, 1))\n",
    "accuracy = tf.reduce_mean(tf.cast(correct_pred, tf.float32), name='accuracy')\n",
    "\n",
    "tests.test_conv_net(conv_net)"
   ]
  },
  {
   "cell_type": "markdown",
   "metadata": {
    "deletable": true,
    "editable": true
   },
   "source": [
    "## Train the Neural Network\n",
    "### Single Optimization\n",
    "Implement the function `train_neural_network` to do a single optimization.  The optimization should use `optimizer` to optimize in `session` with a `feed_dict` of the following:\n",
    "* `x` for image input\n",
    "* `y` for labels\n",
    "* `keep_prob` for keep probability for dropout\n",
    "\n",
    "This function will be called for each batch, so `tf.global_variables_initializer()` has already been called.\n",
    "\n",
    "Note: Nothing needs to be returned. This function is only optimizing the neural network."
   ]
  },
  {
   "cell_type": "code",
   "execution_count": 374,
   "metadata": {
    "collapsed": false,
    "deletable": true,
    "editable": true
   },
   "outputs": [
    {
     "name": "stdout",
     "output_type": "stream",
     "text": [
      "Tests Passed\n"
     ]
    }
   ],
   "source": [
    "def train_neural_network(session, optimizer, keep_probability, feature_batch, label_batch):\n",
    "    \"\"\"\n",
    "    Optimize the session on a batch of images and labels\n",
    "    : session: Current TensorFlow session\n",
    "    : optimizer: TensorFlow optimizer function\n",
    "    : keep_probability: keep probability\n",
    "    : feature_batch: Batch of Numpy image data\n",
    "    : label_batch: Batch of Numpy label data\n",
    "    \"\"\"\n",
    "    # TODO: Implement Function\n",
    "    train_feed_dict = {x: feature_batch, y: label_batch, keep_prob: keep_probability}     \n",
    "    session.run(optimizer, feed_dict=train_feed_dict)\n",
    "\n",
    "\n",
    "\"\"\"\n",
    "DON'T MODIFY ANYTHING IN THIS CELL THAT IS BELOW THIS LINE\n",
    "\"\"\"\n",
    "tests.test_train_nn(train_neural_network)"
   ]
  },
  {
   "cell_type": "markdown",
   "metadata": {
    "deletable": true,
    "editable": true
   },
   "source": [
    "### Show Stats\n",
    "Implement the function `print_stats` to print loss and validation accuracy.  Use the global variables `valid_features` and `valid_labels` to calculate validation accuracy.  Use a keep probability of `1.0` to calculate the loss and validation accuracy."
   ]
  },
  {
   "cell_type": "code",
   "execution_count": 375,
   "metadata": {
    "collapsed": false,
    "deletable": true,
    "editable": true
   },
   "outputs": [],
   "source": [
    "def print_stats(session, feature_batch, label_batch, cost, accuracy):\n",
    "    \"\"\"\n",
    "    Print information about loss and validation accuracy\n",
    "    : session: Current TensorFlow session\n",
    "    : feature_batch: Batch of Numpy image data\n",
    "    : label_batch: Batch of Numpy label data\n",
    "    : cost: TensorFlow cost function\n",
    "    : accuracy: TensorFlow accuracy function\n",
    "    \"\"\"\n",
    "    # TODO: Implement Function\n",
    "    current_cost = session.run(\n",
    "        cost,\n",
    "        feed_dict={x: feature_batch, y: label_batch, keep_prob:1.0})\n",
    "    \n",
    "    valid_accuracy = session.run(\n",
    "        accuracy,\n",
    "        feed_dict={x: valid_features, y: valid_labels, keep_prob:1.0})\n",
    "    \n",
    "    print('Cost: {:<8.5} Valid Accuracy: {:<8.5}'.format(current_cost,  valid_accuracy))"
   ]
  },
  {
   "cell_type": "markdown",
   "metadata": {
    "deletable": true,
    "editable": true
   },
   "source": [
    "### Hyperparameters\n",
    "Tune the following parameters:\n",
    "* Set `epochs` to the number of iterations until the network stops learning or start overfitting\n",
    "* Set `batch_size` to the highest number that your machine has memory for.  Most people set them to common sizes of memory:\n",
    " * 64\n",
    " * 128\n",
    " * 256\n",
    " * ...\n",
    "* Set `keep_probability` to the probability of keeping a node using dropout"
   ]
  },
  {
   "cell_type": "code",
   "execution_count": 376,
   "metadata": {
    "collapsed": true,
    "deletable": true,
    "editable": true
   },
   "outputs": [],
   "source": [
    "# TODO: Tune Parameters\n",
    "epochs = 50\n",
    "batch_size = 128\n",
    "keep_probability = 0.5"
   ]
  },
  {
   "cell_type": "markdown",
   "metadata": {
    "deletable": true,
    "editable": true
   },
   "source": [
    "### Train on a Single CIFAR-10 Batch\n",
    "Instead of training the neural network on all the CIFAR-10 batches of data, let's use a single batch. This should save time while you iterate on the model to get a better accuracy.  Once the final validation accuracy is 50% or greater, run the model on all the data in the next section."
   ]
  },
  {
   "cell_type": "code",
   "execution_count": 377,
   "metadata": {
    "collapsed": false,
    "deletable": true,
    "editable": true
   },
   "outputs": [
    {
     "name": "stdout",
     "output_type": "stream",
     "text": [
      "Checking the Training on a Single Batch...\n",
      "Epoch  1, CIFAR-10 Batch 1:  Cost: 2.2643   Valid Accuracy: 0.1568  \n",
      "Epoch  2, CIFAR-10 Batch 1:  Cost: 2.2042   Valid Accuracy: 0.2052  \n",
      "Epoch  3, CIFAR-10 Batch 1:  Cost: 2.1034   Valid Accuracy: 0.2258  \n",
      "Epoch  4, CIFAR-10 Batch 1:  Cost: 2.0853   Valid Accuracy: 0.246   \n",
      "Epoch  5, CIFAR-10 Batch 1:  Cost: 1.9416   Valid Accuracy: 0.305   \n",
      "Epoch  6, CIFAR-10 Batch 1:  Cost: 1.8954   Valid Accuracy: 0.3406  \n",
      "Epoch  7, CIFAR-10 Batch 1:  Cost: 1.7886   Valid Accuracy: 0.398   \n",
      "Epoch  8, CIFAR-10 Batch 1:  Cost: 1.6727   Valid Accuracy: 0.4128  \n",
      "Epoch  9, CIFAR-10 Batch 1:  Cost: 1.532    Valid Accuracy: 0.4034  \n",
      "Epoch 10, CIFAR-10 Batch 1:  Cost: 1.4766   Valid Accuracy: 0.4358  \n",
      "Epoch 11, CIFAR-10 Batch 1:  Cost: 1.324    Valid Accuracy: 0.4496  \n",
      "Epoch 12, CIFAR-10 Batch 1:  Cost: 1.2249   Valid Accuracy: 0.4532  \n",
      "Epoch 13, CIFAR-10 Batch 1:  Cost: 1.1138   Valid Accuracy: 0.4788  \n",
      "Epoch 14, CIFAR-10 Batch 1:  Cost: 1.0098   Valid Accuracy: 0.4738  \n",
      "Epoch 15, CIFAR-10 Batch 1:  Cost: 0.92693  Valid Accuracy: 0.4932  \n",
      "Epoch 16, CIFAR-10 Batch 1:  Cost: 0.89317  Valid Accuracy: 0.5068  \n",
      "Epoch 17, CIFAR-10 Batch 1:  Cost: 0.76555  Valid Accuracy: 0.5138  \n",
      "Epoch 18, CIFAR-10 Batch 1:  Cost: 0.74025  Valid Accuracy: 0.5152  \n",
      "Epoch 19, CIFAR-10 Batch 1:  Cost: 0.73709  Valid Accuracy: 0.496   \n",
      "Epoch 20, CIFAR-10 Batch 1:  Cost: 0.66502  Valid Accuracy: 0.52    \n",
      "Epoch 21, CIFAR-10 Batch 1:  Cost: 0.58446  Valid Accuracy: 0.5256  \n",
      "Epoch 22, CIFAR-10 Batch 1:  Cost: 0.57362  Valid Accuracy: 0.5336  \n",
      "Epoch 23, CIFAR-10 Batch 1:  Cost: 0.46559  Valid Accuracy: 0.5342  \n",
      "Epoch 24, CIFAR-10 Batch 1:  Cost: 0.4851   Valid Accuracy: 0.5364  \n",
      "Epoch 25, CIFAR-10 Batch 1:  Cost: 0.42255  Valid Accuracy: 0.5318  \n",
      "Epoch 26, CIFAR-10 Batch 1:  Cost: 0.39064  Valid Accuracy: 0.5446  \n",
      "Epoch 27, CIFAR-10 Batch 1:  Cost: 0.35741  Valid Accuracy: 0.5554  \n",
      "Epoch 28, CIFAR-10 Batch 1:  Cost: 0.30467  Valid Accuracy: 0.5446  \n",
      "Epoch 29, CIFAR-10 Batch 1:  Cost: 0.25211  Valid Accuracy: 0.5496  \n",
      "Epoch 30, CIFAR-10 Batch 1:  Cost: 0.23913  Valid Accuracy: 0.549   \n",
      "Epoch 31, CIFAR-10 Batch 1:  Cost: 0.19338  Valid Accuracy: 0.5512  \n",
      "Epoch 32, CIFAR-10 Batch 1:  Cost: 0.17221  Valid Accuracy: 0.5458  \n",
      "Epoch 33, CIFAR-10 Batch 1:  Cost: 0.16806  Valid Accuracy: 0.5506  \n",
      "Epoch 34, CIFAR-10 Batch 1:  Cost: 0.11892  Valid Accuracy: 0.5586  \n",
      "Epoch 35, CIFAR-10 Batch 1:  Cost: 0.11972  Valid Accuracy: 0.5508  \n",
      "Epoch 36, CIFAR-10 Batch 1:  Cost: 0.11727  Valid Accuracy: 0.5594  \n",
      "Epoch 37, CIFAR-10 Batch 1:  Cost: 0.085112 Valid Accuracy: 0.5644  \n",
      "Epoch 38, CIFAR-10 Batch 1:  Cost: 0.10633  Valid Accuracy: 0.55    \n",
      "Epoch 39, CIFAR-10 Batch 1:  Cost: 0.077239 Valid Accuracy: 0.5496  \n",
      "Epoch 40, CIFAR-10 Batch 1:  Cost: 0.084281 Valid Accuracy: 0.5556  \n",
      "Epoch 41, CIFAR-10 Batch 1:  Cost: 0.062175 Valid Accuracy: 0.5626  \n",
      "Epoch 42, CIFAR-10 Batch 1:  Cost: 0.050001 Valid Accuracy: 0.5528  \n",
      "Epoch 43, CIFAR-10 Batch 1:  Cost: 0.044847 Valid Accuracy: 0.5556  \n",
      "Epoch 44, CIFAR-10 Batch 1:  Cost: 0.024875 Valid Accuracy: 0.5464  \n",
      "Epoch 45, CIFAR-10 Batch 1:  Cost: 0.033244 Valid Accuracy: 0.5498  \n",
      "Epoch 46, CIFAR-10 Batch 1:  Cost: 0.021    Valid Accuracy: 0.5504  \n",
      "Epoch 47, CIFAR-10 Batch 1:  Cost: 0.041571 Valid Accuracy: 0.543   \n",
      "Epoch 48, CIFAR-10 Batch 1:  Cost: 0.039543 Valid Accuracy: 0.5466  \n",
      "Epoch 49, CIFAR-10 Batch 1:  Cost: 0.020047 Valid Accuracy: 0.5606  \n",
      "Epoch 50, CIFAR-10 Batch 1:  Cost: 0.022135 Valid Accuracy: 0.5552  \n"
     ]
    }
   ],
   "source": [
    "\"\"\"\n",
    "DON'T MODIFY ANYTHING IN THIS CELL\n",
    "\"\"\"\n",
    "print('Checking the Training on a Single Batch...')\n",
    "with tf.Session() as sess:\n",
    "    # Initializing the variables\n",
    "    sess.run(tf.global_variables_initializer())\n",
    "    \n",
    "    # Training cycle\n",
    "    for epoch in range(epochs):\n",
    "        batch_i = 1\n",
    "        for batch_features, batch_labels in helper.load_preprocess_training_batch(batch_i, batch_size):\n",
    "            train_neural_network(sess, optimizer, keep_probability, batch_features, batch_labels)\n",
    "        print('Epoch {:>2}, CIFAR-10 Batch {}:  '.format(epoch + 1, batch_i), end='')\n",
    "        print_stats(sess, batch_features, batch_labels, cost, accuracy)"
   ]
  },
  {
   "cell_type": "markdown",
   "metadata": {
    "deletable": true,
    "editable": true
   },
   "source": [
    "### Fully Train the Model\n",
    "Now that you got a good accuracy with a single CIFAR-10 batch, try it with all five batches."
   ]
  },
  {
   "cell_type": "code",
   "execution_count": 378,
   "metadata": {
    "collapsed": false,
    "deletable": true,
    "editable": true
   },
   "outputs": [
    {
     "name": "stdout",
     "output_type": "stream",
     "text": [
      "Training...\n",
      "Epoch  1, CIFAR-10 Batch 1:  Cost: 2.2881   Valid Accuracy: 0.1266  \n",
      "Epoch  1, CIFAR-10 Batch 2:  Cost: 2.2128   Valid Accuracy: 0.1682  \n",
      "Epoch  1, CIFAR-10 Batch 3:  Cost: 2.1412   Valid Accuracy: 0.2454  \n",
      "Epoch  1, CIFAR-10 Batch 4:  Cost: 1.9829   Valid Accuracy: 0.2952  \n",
      "Epoch  1, CIFAR-10 Batch 5:  Cost: 1.9112   Valid Accuracy: 0.2944  \n",
      "Epoch  2, CIFAR-10 Batch 1:  Cost: 1.9865   Valid Accuracy: 0.3372  \n",
      "Epoch  2, CIFAR-10 Batch 2:  Cost: 1.8836   Valid Accuracy: 0.3486  \n",
      "Epoch  2, CIFAR-10 Batch 3:  Cost: 1.7225   Valid Accuracy: 0.374   \n",
      "Epoch  2, CIFAR-10 Batch 4:  Cost: 1.7694   Valid Accuracy: 0.3908  \n",
      "Epoch  2, CIFAR-10 Batch 5:  Cost: 1.7529   Valid Accuracy: 0.3664  \n",
      "Epoch  3, CIFAR-10 Batch 1:  Cost: 1.8194   Valid Accuracy: 0.408   \n",
      "Epoch  3, CIFAR-10 Batch 2:  Cost: 1.6869   Valid Accuracy: 0.427   \n",
      "Epoch  3, CIFAR-10 Batch 3:  Cost: 1.5161   Valid Accuracy: 0.426   \n",
      "Epoch  3, CIFAR-10 Batch 4:  Cost: 1.5679   Valid Accuracy: 0.4454  \n",
      "Epoch  3, CIFAR-10 Batch 5:  Cost: 1.5404   Valid Accuracy: 0.4674  \n",
      "Epoch  4, CIFAR-10 Batch 1:  Cost: 1.5196   Valid Accuracy: 0.4778  \n",
      "Epoch  4, CIFAR-10 Batch 2:  Cost: 1.4351   Valid Accuracy: 0.4804  \n",
      "Epoch  4, CIFAR-10 Batch 3:  Cost: 1.3287   Valid Accuracy: 0.4876  \n",
      "Epoch  4, CIFAR-10 Batch 4:  Cost: 1.3668   Valid Accuracy: 0.5078  \n",
      "Epoch  4, CIFAR-10 Batch 5:  Cost: 1.3737   Valid Accuracy: 0.5206  \n",
      "Epoch  5, CIFAR-10 Batch 1:  Cost: 1.373    Valid Accuracy: 0.5152  \n",
      "Epoch  5, CIFAR-10 Batch 2:  Cost: 1.2294   Valid Accuracy: 0.535   \n",
      "Epoch  5, CIFAR-10 Batch 3:  Cost: 1.1725   Valid Accuracy: 0.5046  \n",
      "Epoch  5, CIFAR-10 Batch 4:  Cost: 1.2052   Valid Accuracy: 0.559   \n",
      "Epoch  5, CIFAR-10 Batch 5:  Cost: 1.2517   Valid Accuracy: 0.5344  \n",
      "Epoch  6, CIFAR-10 Batch 1:  Cost: 1.1935   Valid Accuracy: 0.5548  \n",
      "Epoch  6, CIFAR-10 Batch 2:  Cost: 1.1072   Valid Accuracy: 0.5586  \n",
      "Epoch  6, CIFAR-10 Batch 3:  Cost: 1.0269   Valid Accuracy: 0.5396  \n",
      "Epoch  6, CIFAR-10 Batch 4:  Cost: 1.1029   Valid Accuracy: 0.5718  \n",
      "Epoch  6, CIFAR-10 Batch 5:  Cost: 1.1624   Valid Accuracy: 0.5648  \n",
      "Epoch  7, CIFAR-10 Batch 1:  Cost: 1.1184   Valid Accuracy: 0.5684  \n",
      "Epoch  7, CIFAR-10 Batch 2:  Cost: 1.0969   Valid Accuracy: 0.5606  \n",
      "Epoch  7, CIFAR-10 Batch 3:  Cost: 0.96055  Valid Accuracy: 0.564   \n",
      "Epoch  7, CIFAR-10 Batch 4:  Cost: 1.0091   Valid Accuracy: 0.5908  \n",
      "Epoch  7, CIFAR-10 Batch 5:  Cost: 1.0591   Valid Accuracy: 0.5758  \n",
      "Epoch  8, CIFAR-10 Batch 1:  Cost: 0.95895  Valid Accuracy: 0.5932  \n",
      "Epoch  8, CIFAR-10 Batch 2:  Cost: 1.0188   Valid Accuracy: 0.5778  \n",
      "Epoch  8, CIFAR-10 Batch 3:  Cost: 0.87897  Valid Accuracy: 0.5858  \n",
      "Epoch  8, CIFAR-10 Batch 4:  Cost: 0.95558  Valid Accuracy: 0.6024  \n",
      "Epoch  8, CIFAR-10 Batch 5:  Cost: 0.92834  Valid Accuracy: 0.5956  \n",
      "Epoch  9, CIFAR-10 Batch 1:  Cost: 0.92549  Valid Accuracy: 0.5896  \n",
      "Epoch  9, CIFAR-10 Batch 2:  Cost: 0.91761  Valid Accuracy: 0.5924  \n",
      "Epoch  9, CIFAR-10 Batch 3:  Cost: 0.80083  Valid Accuracy: 0.6028  \n",
      "Epoch  9, CIFAR-10 Batch 4:  Cost: 0.82467  Valid Accuracy: 0.6116  \n",
      "Epoch  9, CIFAR-10 Batch 5:  Cost: 0.88422  Valid Accuracy: 0.5964  \n",
      "Epoch 10, CIFAR-10 Batch 1:  Cost: 0.83674  Valid Accuracy: 0.5996  \n",
      "Epoch 10, CIFAR-10 Batch 2:  Cost: 0.81644  Valid Accuracy: 0.6012  \n",
      "Epoch 10, CIFAR-10 Batch 3:  Cost: 0.66919  Valid Accuracy: 0.6026  \n",
      "Epoch 10, CIFAR-10 Batch 4:  Cost: 0.75723  Valid Accuracy: 0.6194  \n",
      "Epoch 10, CIFAR-10 Batch 5:  Cost: 0.88805  Valid Accuracy: 0.5986  \n",
      "Epoch 11, CIFAR-10 Batch 1:  Cost: 0.76737  Valid Accuracy: 0.6144  \n",
      "Epoch 11, CIFAR-10 Batch 2:  Cost: 0.77681  Valid Accuracy: 0.5972  \n",
      "Epoch 11, CIFAR-10 Batch 3:  Cost: 0.6583   Valid Accuracy: 0.6088  \n",
      "Epoch 11, CIFAR-10 Batch 4:  Cost: 0.65381  Valid Accuracy: 0.6232  \n",
      "Epoch 11, CIFAR-10 Batch 5:  Cost: 0.81863  Valid Accuracy: 0.6086  \n",
      "Epoch 12, CIFAR-10 Batch 1:  Cost: 0.72736  Valid Accuracy: 0.6218  \n",
      "Epoch 12, CIFAR-10 Batch 2:  Cost: 0.64484  Valid Accuracy: 0.6212  \n",
      "Epoch 12, CIFAR-10 Batch 3:  Cost: 0.5891   Valid Accuracy: 0.6152  \n",
      "Epoch 12, CIFAR-10 Batch 4:  Cost: 0.59676  Valid Accuracy: 0.6236  \n",
      "Epoch 12, CIFAR-10 Batch 5:  Cost: 0.68256  Valid Accuracy: 0.612   \n",
      "Epoch 13, CIFAR-10 Batch 1:  Cost: 0.60539  Valid Accuracy: 0.6278  \n",
      "Epoch 13, CIFAR-10 Batch 2:  Cost: 0.62367  Valid Accuracy: 0.6178  \n",
      "Epoch 13, CIFAR-10 Batch 3:  Cost: 0.52184  Valid Accuracy: 0.62    \n",
      "Epoch 13, CIFAR-10 Batch 4:  Cost: 0.56517  Valid Accuracy: 0.6354  \n",
      "Epoch 13, CIFAR-10 Batch 5:  Cost: 0.64073  Valid Accuracy: 0.6168  \n",
      "Epoch 14, CIFAR-10 Batch 1:  Cost: 0.60052  Valid Accuracy: 0.6154  \n",
      "Epoch 14, CIFAR-10 Batch 2:  Cost: 0.53172  Valid Accuracy: 0.6362  \n",
      "Epoch 14, CIFAR-10 Batch 3:  Cost: 0.47197  Valid Accuracy: 0.6314  \n",
      "Epoch 14, CIFAR-10 Batch 4:  Cost: 0.54906  Valid Accuracy: 0.637   \n",
      "Epoch 14, CIFAR-10 Batch 5:  Cost: 0.56766  Valid Accuracy: 0.6196  \n",
      "Epoch 15, CIFAR-10 Batch 1:  Cost: 0.54888  Valid Accuracy: 0.6254  \n",
      "Epoch 15, CIFAR-10 Batch 2:  Cost: 0.58998  Valid Accuracy: 0.6328  \n",
      "Epoch 15, CIFAR-10 Batch 3:  Cost: 0.41005  Valid Accuracy: 0.6458  \n",
      "Epoch 15, CIFAR-10 Batch 4:  Cost: 0.4446   Valid Accuracy: 0.644   \n",
      "Epoch 15, CIFAR-10 Batch 5:  Cost: 0.54848  Valid Accuracy: 0.6304  \n",
      "Epoch 16, CIFAR-10 Batch 1:  Cost: 0.49473  Valid Accuracy: 0.6294  \n",
      "Epoch 16, CIFAR-10 Batch 2:  Cost: 0.49717  Valid Accuracy: 0.6482  \n",
      "Epoch 16, CIFAR-10 Batch 3:  Cost: 0.37139  Valid Accuracy: 0.6458  \n",
      "Epoch 16, CIFAR-10 Batch 4:  Cost: 0.4218   Valid Accuracy: 0.6428  \n",
      "Epoch 16, CIFAR-10 Batch 5:  Cost: 0.45817  Valid Accuracy: 0.633   \n",
      "Epoch 17, CIFAR-10 Batch 1:  Cost: 0.5085   Valid Accuracy: 0.6246  \n",
      "Epoch 17, CIFAR-10 Batch 2:  Cost: 0.45086  Valid Accuracy: 0.6314  \n",
      "Epoch 17, CIFAR-10 Batch 3:  Cost: 0.37938  Valid Accuracy: 0.6368  \n",
      "Epoch 17, CIFAR-10 Batch 4:  Cost: 0.42307  Valid Accuracy: 0.644   \n",
      "Epoch 17, CIFAR-10 Batch 5:  Cost: 0.46685  Valid Accuracy: 0.63    \n",
      "Epoch 18, CIFAR-10 Batch 1:  Cost: 0.49723  Valid Accuracy: 0.6364  \n",
      "Epoch 18, CIFAR-10 Batch 2:  Cost: 0.37904  Valid Accuracy: 0.6472  \n",
      "Epoch 18, CIFAR-10 Batch 3:  Cost: 0.34816  Valid Accuracy: 0.6356  \n",
      "Epoch 18, CIFAR-10 Batch 4:  Cost: 0.39687  Valid Accuracy: 0.6396  \n",
      "Epoch 18, CIFAR-10 Batch 5:  Cost: 0.40701  Valid Accuracy: 0.624   \n",
      "Epoch 19, CIFAR-10 Batch 1:  Cost: 0.44399  Valid Accuracy: 0.644   \n",
      "Epoch 19, CIFAR-10 Batch 2:  Cost: 0.33546  Valid Accuracy: 0.648   \n",
      "Epoch 19, CIFAR-10 Batch 3:  Cost: 0.29189  Valid Accuracy: 0.644   \n",
      "Epoch 19, CIFAR-10 Batch 4:  Cost: 0.33387  Valid Accuracy: 0.6404  \n",
      "Epoch 19, CIFAR-10 Batch 5:  Cost: 0.38058  Valid Accuracy: 0.6426  \n",
      "Epoch 20, CIFAR-10 Batch 1:  Cost: 0.37581  Valid Accuracy: 0.6478  \n",
      "Epoch 20, CIFAR-10 Batch 2:  Cost: 0.30213  Valid Accuracy: 0.6442  \n",
      "Epoch 20, CIFAR-10 Batch 3:  Cost: 0.31918  Valid Accuracy: 0.6384  \n",
      "Epoch 20, CIFAR-10 Batch 4:  Cost: 0.31942  Valid Accuracy: 0.6464  \n",
      "Epoch 20, CIFAR-10 Batch 5:  Cost: 0.31575  Valid Accuracy: 0.647   \n",
      "Epoch 21, CIFAR-10 Batch 1:  Cost: 0.34452  Valid Accuracy: 0.6492  \n",
      "Epoch 21, CIFAR-10 Batch 2:  Cost: 0.27208  Valid Accuracy: 0.659   \n",
      "Epoch 21, CIFAR-10 Batch 3:  Cost: 0.26568  Valid Accuracy: 0.6518  \n",
      "Epoch 21, CIFAR-10 Batch 4:  Cost: 0.30004  Valid Accuracy: 0.6588  \n",
      "Epoch 21, CIFAR-10 Batch 5:  Cost: 0.30884  Valid Accuracy: 0.64    \n",
      "Epoch 22, CIFAR-10 Batch 1:  Cost: 0.32064  Valid Accuracy: 0.6454  \n",
      "Epoch 22, CIFAR-10 Batch 2:  Cost: 0.31182  Valid Accuracy: 0.6616  \n",
      "Epoch 22, CIFAR-10 Batch 3:  Cost: 0.22553  Valid Accuracy: 0.643   \n",
      "Epoch 22, CIFAR-10 Batch 4:  Cost: 0.28569  Valid Accuracy: 0.6394  \n",
      "Epoch 22, CIFAR-10 Batch 5:  Cost: 0.27808  Valid Accuracy: 0.6514  \n",
      "Epoch 23, CIFAR-10 Batch 1:  Cost: 0.26552  Valid Accuracy: 0.6606  \n",
      "Epoch 23, CIFAR-10 Batch 2:  Cost: 0.24035  Valid Accuracy: 0.6578  \n",
      "Epoch 23, CIFAR-10 Batch 3:  Cost: 0.2079   Valid Accuracy: 0.6454  \n",
      "Epoch 23, CIFAR-10 Batch 4:  Cost: 0.2425   Valid Accuracy: 0.6506  \n",
      "Epoch 23, CIFAR-10 Batch 5:  Cost: 0.30245  Valid Accuracy: 0.6354  \n",
      "Epoch 24, CIFAR-10 Batch 1:  Cost: 0.2729   Valid Accuracy: 0.6494  \n",
      "Epoch 24, CIFAR-10 Batch 2:  Cost: 0.25946  Valid Accuracy: 0.6506  \n",
      "Epoch 24, CIFAR-10 Batch 3:  Cost: 0.23562  Valid Accuracy: 0.645   \n",
      "Epoch 24, CIFAR-10 Batch 4:  Cost: 0.23643  Valid Accuracy: 0.6494  \n",
      "Epoch 24, CIFAR-10 Batch 5:  Cost: 0.22018  Valid Accuracy: 0.6518  \n",
      "Epoch 25, CIFAR-10 Batch 1:  Cost: 0.28046  Valid Accuracy: 0.636   \n",
      "Epoch 25, CIFAR-10 Batch 2:  Cost: 0.22304  Valid Accuracy: 0.6414  \n",
      "Epoch 25, CIFAR-10 Batch 3:  Cost: 0.1977   Valid Accuracy: 0.6478  \n",
      "Epoch 25, CIFAR-10 Batch 4:  Cost: 0.2266   Valid Accuracy: 0.6472  \n",
      "Epoch 25, CIFAR-10 Batch 5:  Cost: 0.20614  Valid Accuracy: 0.6556  \n",
      "Epoch 26, CIFAR-10 Batch 1:  Cost: 0.23844  Valid Accuracy: 0.6504  \n",
      "Epoch 26, CIFAR-10 Batch 2:  Cost: 0.1908   Valid Accuracy: 0.6586  \n",
      "Epoch 26, CIFAR-10 Batch 3:  Cost: 0.15511  Valid Accuracy: 0.6362  \n",
      "Epoch 26, CIFAR-10 Batch 4:  Cost: 0.21678  Valid Accuracy: 0.654   \n",
      "Epoch 26, CIFAR-10 Batch 5:  Cost: 0.1621   Valid Accuracy: 0.6508  \n",
      "Epoch 27, CIFAR-10 Batch 1:  Cost: 0.20061  Valid Accuracy: 0.654   \n",
      "Epoch 27, CIFAR-10 Batch 2:  Cost: 0.1682   Valid Accuracy: 0.6558  \n",
      "Epoch 27, CIFAR-10 Batch 3:  Cost: 0.14905  Valid Accuracy: 0.6504  \n",
      "Epoch 27, CIFAR-10 Batch 4:  Cost: 0.18673  Valid Accuracy: 0.6566  \n",
      "Epoch 27, CIFAR-10 Batch 5:  Cost: 0.15603  Valid Accuracy: 0.6526  \n",
      "Epoch 28, CIFAR-10 Batch 1:  Cost: 0.18279  Valid Accuracy: 0.6532  \n",
      "Epoch 28, CIFAR-10 Batch 2:  Cost: 0.17451  Valid Accuracy: 0.635   \n",
      "Epoch 28, CIFAR-10 Batch 3:  Cost: 0.14153  Valid Accuracy: 0.6546  \n",
      "Epoch 28, CIFAR-10 Batch 4:  Cost: 0.18906  Valid Accuracy: 0.656   \n",
      "Epoch 28, CIFAR-10 Batch 5:  Cost: 0.15538  Valid Accuracy: 0.6532  \n",
      "Epoch 29, CIFAR-10 Batch 1:  Cost: 0.13857  Valid Accuracy: 0.6496  \n",
      "Epoch 29, CIFAR-10 Batch 2:  Cost: 0.16     Valid Accuracy: 0.6608  \n",
      "Epoch 29, CIFAR-10 Batch 3:  Cost: 0.11769  Valid Accuracy: 0.6478  \n",
      "Epoch 29, CIFAR-10 Batch 4:  Cost: 0.16316  Valid Accuracy: 0.6566  \n",
      "Epoch 29, CIFAR-10 Batch 5:  Cost: 0.12508  Valid Accuracy: 0.6586  \n",
      "Epoch 30, CIFAR-10 Batch 1:  Cost: 0.15575  Valid Accuracy: 0.6504  \n",
      "Epoch 30, CIFAR-10 Batch 2:  Cost: 0.12624  Valid Accuracy: 0.6638  \n",
      "Epoch 30, CIFAR-10 Batch 3:  Cost: 0.095915 Valid Accuracy: 0.6554  \n",
      "Epoch 30, CIFAR-10 Batch 4:  Cost: 0.18748  Valid Accuracy: 0.6582  \n",
      "Epoch 30, CIFAR-10 Batch 5:  Cost: 0.12126  Valid Accuracy: 0.65    \n",
      "Epoch 31, CIFAR-10 Batch 1:  Cost: 0.19143  Valid Accuracy: 0.6352  \n",
      "Epoch 31, CIFAR-10 Batch 2:  Cost: 0.12187  Valid Accuracy: 0.6556  \n",
      "Epoch 31, CIFAR-10 Batch 3:  Cost: 0.080255 Valid Accuracy: 0.6506  \n",
      "Epoch 31, CIFAR-10 Batch 4:  Cost: 0.16353  Valid Accuracy: 0.653   \n",
      "Epoch 31, CIFAR-10 Batch 5:  Cost: 0.094534 Valid Accuracy: 0.6544  \n",
      "Epoch 32, CIFAR-10 Batch 1:  Cost: 0.13149  Valid Accuracy: 0.6394  \n",
      "Epoch 32, CIFAR-10 Batch 2:  Cost: 0.12145  Valid Accuracy: 0.654   \n",
      "Epoch 32, CIFAR-10 Batch 3:  Cost: 0.097053 Valid Accuracy: 0.657   \n",
      "Epoch 32, CIFAR-10 Batch 4:  Cost: 0.16796  Valid Accuracy: 0.6606  \n",
      "Epoch 32, CIFAR-10 Batch 5:  Cost: 0.107    Valid Accuracy: 0.6574  \n",
      "Epoch 33, CIFAR-10 Batch 1:  Cost: 0.13044  Valid Accuracy: 0.6578  \n",
      "Epoch 33, CIFAR-10 Batch 2:  Cost: 0.12451  Valid Accuracy: 0.659   \n",
      "Epoch 33, CIFAR-10 Batch 3:  Cost: 0.089024 Valid Accuracy: 0.6532  \n",
      "Epoch 33, CIFAR-10 Batch 4:  Cost: 0.14187  Valid Accuracy: 0.6614  \n",
      "Epoch 33, CIFAR-10 Batch 5:  Cost: 0.094201 Valid Accuracy: 0.6546  \n",
      "Epoch 34, CIFAR-10 Batch 1:  Cost: 0.13468  Valid Accuracy: 0.6348  \n",
      "Epoch 34, CIFAR-10 Batch 2:  Cost: 0.12144  Valid Accuracy: 0.6384  \n",
      "Epoch 34, CIFAR-10 Batch 3:  Cost: 0.083466 Valid Accuracy: 0.645   \n",
      "Epoch 34, CIFAR-10 Batch 4:  Cost: 0.11549  Valid Accuracy: 0.6608  \n",
      "Epoch 34, CIFAR-10 Batch 5:  Cost: 0.068281 Valid Accuracy: 0.6616  \n",
      "Epoch 35, CIFAR-10 Batch 1:  Cost: 0.11769  Valid Accuracy: 0.6392  \n",
      "Epoch 35, CIFAR-10 Batch 2:  Cost: 0.085069 Valid Accuracy: 0.6638  \n",
      "Epoch 35, CIFAR-10 Batch 3:  Cost: 0.077943 Valid Accuracy: 0.6522  \n",
      "Epoch 35, CIFAR-10 Batch 4:  Cost: 0.14795  Valid Accuracy: 0.6426  \n",
      "Epoch 35, CIFAR-10 Batch 5:  Cost: 0.082876 Valid Accuracy: 0.6584  \n",
      "Epoch 36, CIFAR-10 Batch 1:  Cost: 0.11096  Valid Accuracy: 0.6344  \n",
      "Epoch 36, CIFAR-10 Batch 2:  Cost: 0.086222 Valid Accuracy: 0.6648  \n",
      "Epoch 36, CIFAR-10 Batch 3:  Cost: 0.055312 Valid Accuracy: 0.6522  \n",
      "Epoch 36, CIFAR-10 Batch 4:  Cost: 0.10431  Valid Accuracy: 0.6504  \n",
      "Epoch 36, CIFAR-10 Batch 5:  Cost: 0.054209 Valid Accuracy: 0.6502  \n",
      "Epoch 37, CIFAR-10 Batch 1:  Cost: 0.10692  Valid Accuracy: 0.6498  \n",
      "Epoch 37, CIFAR-10 Batch 2:  Cost: 0.079655 Valid Accuracy: 0.6478  \n",
      "Epoch 37, CIFAR-10 Batch 3:  Cost: 0.06068  Valid Accuracy: 0.6598  \n",
      "Epoch 37, CIFAR-10 Batch 4:  Cost: 0.093586 Valid Accuracy: 0.6574  \n",
      "Epoch 37, CIFAR-10 Batch 5:  Cost: 0.059183 Valid Accuracy: 0.6592  \n",
      "Epoch 38, CIFAR-10 Batch 1:  Cost: 0.10445  Valid Accuracy: 0.6484  \n",
      "Epoch 38, CIFAR-10 Batch 2:  Cost: 0.07692  Valid Accuracy: 0.6528  \n",
      "Epoch 38, CIFAR-10 Batch 3:  Cost: 0.058689 Valid Accuracy: 0.6578  \n",
      "Epoch 38, CIFAR-10 Batch 4:  Cost: 0.067164 Valid Accuracy: 0.6554  \n",
      "Epoch 38, CIFAR-10 Batch 5:  Cost: 0.072726 Valid Accuracy: 0.6442  \n",
      "Epoch 39, CIFAR-10 Batch 1:  Cost: 0.10317  Valid Accuracy: 0.6356  \n",
      "Epoch 39, CIFAR-10 Batch 2:  Cost: 0.090289 Valid Accuracy: 0.6466  \n",
      "Epoch 39, CIFAR-10 Batch 3:  Cost: 0.052204 Valid Accuracy: 0.6628  \n",
      "Epoch 39, CIFAR-10 Batch 4:  Cost: 0.093024 Valid Accuracy: 0.6644  \n",
      "Epoch 39, CIFAR-10 Batch 5:  Cost: 0.057062 Valid Accuracy: 0.6546  \n",
      "Epoch 40, CIFAR-10 Batch 1:  Cost: 0.11175  Valid Accuracy: 0.6464  \n",
      "Epoch 40, CIFAR-10 Batch 2:  Cost: 0.078954 Valid Accuracy: 0.6624  \n",
      "Epoch 40, CIFAR-10 Batch 3:  Cost: 0.048931 Valid Accuracy: 0.6444  \n",
      "Epoch 40, CIFAR-10 Batch 4:  Cost: 0.066126 Valid Accuracy: 0.658   \n",
      "Epoch 40, CIFAR-10 Batch 5:  Cost: 0.04063  Valid Accuracy: 0.6536  \n",
      "Epoch 41, CIFAR-10 Batch 1:  Cost: 0.088651 Valid Accuracy: 0.6516  \n",
      "Epoch 41, CIFAR-10 Batch 2:  Cost: 0.069827 Valid Accuracy: 0.6628  \n",
      "Epoch 41, CIFAR-10 Batch 3:  Cost: 0.037793 Valid Accuracy: 0.6554  \n",
      "Epoch 41, CIFAR-10 Batch 4:  Cost: 0.076286 Valid Accuracy: 0.6562  \n",
      "Epoch 41, CIFAR-10 Batch 5:  Cost: 0.035159 Valid Accuracy: 0.6526  \n",
      "Epoch 42, CIFAR-10 Batch 1:  Cost: 0.074608 Valid Accuracy: 0.6372  \n",
      "Epoch 42, CIFAR-10 Batch 2:  Cost: 0.053793 Valid Accuracy: 0.6552  \n",
      "Epoch 42, CIFAR-10 Batch 3:  Cost: 0.041221 Valid Accuracy: 0.6518  \n",
      "Epoch 42, CIFAR-10 Batch 4:  Cost: 0.059467 Valid Accuracy: 0.6618  \n",
      "Epoch 42, CIFAR-10 Batch 5:  Cost: 0.044231 Valid Accuracy: 0.6558  \n",
      "Epoch 43, CIFAR-10 Batch 1:  Cost: 0.061594 Valid Accuracy: 0.6494  \n",
      "Epoch 43, CIFAR-10 Batch 2:  Cost: 0.046821 Valid Accuracy: 0.6596  \n",
      "Epoch 43, CIFAR-10 Batch 3:  Cost: 0.035143 Valid Accuracy: 0.6534  \n",
      "Epoch 43, CIFAR-10 Batch 4:  Cost: 0.087776 Valid Accuracy: 0.633   \n",
      "Epoch 43, CIFAR-10 Batch 5:  Cost: 0.040372 Valid Accuracy: 0.653   \n",
      "Epoch 44, CIFAR-10 Batch 1:  Cost: 0.061292 Valid Accuracy: 0.6642  \n",
      "Epoch 44, CIFAR-10 Batch 2:  Cost: 0.047818 Valid Accuracy: 0.6572  \n",
      "Epoch 44, CIFAR-10 Batch 3:  Cost: 0.035696 Valid Accuracy: 0.6542  \n",
      "Epoch 44, CIFAR-10 Batch 4:  Cost: 0.064507 Valid Accuracy: 0.6622  \n",
      "Epoch 44, CIFAR-10 Batch 5:  Cost: 0.042983 Valid Accuracy: 0.6566  \n",
      "Epoch 45, CIFAR-10 Batch 1:  Cost: 0.050153 Valid Accuracy: 0.659   \n",
      "Epoch 45, CIFAR-10 Batch 2:  Cost: 0.053449 Valid Accuracy: 0.655   \n",
      "Epoch 45, CIFAR-10 Batch 3:  Cost: 0.031836 Valid Accuracy: 0.6478  \n",
      "Epoch 45, CIFAR-10 Batch 4:  Cost: 0.057508 Valid Accuracy: 0.661   \n",
      "Epoch 45, CIFAR-10 Batch 5:  Cost: 0.03323  Valid Accuracy: 0.6518  \n",
      "Epoch 46, CIFAR-10 Batch 1:  Cost: 0.068994 Valid Accuracy: 0.6546  \n",
      "Epoch 46, CIFAR-10 Batch 2:  Cost: 0.064979 Valid Accuracy: 0.654   \n",
      "Epoch 46, CIFAR-10 Batch 3:  Cost: 0.043048 Valid Accuracy: 0.6554  \n",
      "Epoch 46, CIFAR-10 Batch 4:  Cost: 0.06784  Valid Accuracy: 0.659   \n",
      "Epoch 46, CIFAR-10 Batch 5:  Cost: 0.030455 Valid Accuracy: 0.6518  \n",
      "Epoch 47, CIFAR-10 Batch 1:  Cost: 0.079868 Valid Accuracy: 0.632   \n",
      "Epoch 47, CIFAR-10 Batch 2:  Cost: 0.0595   Valid Accuracy: 0.6502  \n",
      "Epoch 47, CIFAR-10 Batch 3:  Cost: 0.033025 Valid Accuracy: 0.6616  \n",
      "Epoch 47, CIFAR-10 Batch 4:  Cost: 0.046489 Valid Accuracy: 0.6636  \n",
      "Epoch 47, CIFAR-10 Batch 5:  Cost: 0.036958 Valid Accuracy: 0.6616  \n",
      "Epoch 48, CIFAR-10 Batch 1:  Cost: 0.072924 Valid Accuracy: 0.6384  \n",
      "Epoch 48, CIFAR-10 Batch 2:  Cost: 0.03543  Valid Accuracy: 0.6542  \n",
      "Epoch 48, CIFAR-10 Batch 3:  Cost: 0.038325 Valid Accuracy: 0.6576  \n",
      "Epoch 48, CIFAR-10 Batch 4:  Cost: 0.045236 Valid Accuracy: 0.653   \n",
      "Epoch 48, CIFAR-10 Batch 5:  Cost: 0.034792 Valid Accuracy: 0.6588  \n",
      "Epoch 49, CIFAR-10 Batch 1:  Cost: 0.044074 Valid Accuracy: 0.6538  \n",
      "Epoch 49, CIFAR-10 Batch 2:  Cost: 0.028936 Valid Accuracy: 0.655   \n",
      "Epoch 49, CIFAR-10 Batch 3:  Cost: 0.033466 Valid Accuracy: 0.664   \n",
      "Epoch 49, CIFAR-10 Batch 4:  Cost: 0.056822 Valid Accuracy: 0.6606  \n",
      "Epoch 49, CIFAR-10 Batch 5:  Cost: 0.035343 Valid Accuracy: 0.6524  \n",
      "Epoch 50, CIFAR-10 Batch 1:  Cost: 0.074075 Valid Accuracy: 0.6462  \n",
      "Epoch 50, CIFAR-10 Batch 2:  Cost: 0.033952 Valid Accuracy: 0.6584  \n",
      "Epoch 50, CIFAR-10 Batch 3:  Cost: 0.035623 Valid Accuracy: 0.6534  \n",
      "Epoch 50, CIFAR-10 Batch 4:  Cost: 0.037022 Valid Accuracy: 0.6554  \n",
      "Epoch 50, CIFAR-10 Batch 5:  Cost: 0.04145  Valid Accuracy: 0.654   \n"
     ]
    }
   ],
   "source": [
    "\"\"\"\n",
    "DON'T MODIFY ANYTHING IN THIS CELL\n",
    "\"\"\"\n",
    "save_model_path = './image_classification'\n",
    "\n",
    "print('Training...')\n",
    "with tf.Session() as sess:\n",
    "    # Initializing the variables\n",
    "    sess.run(tf.global_variables_initializer())\n",
    "    \n",
    "    # Training cycle\n",
    "    for epoch in range(epochs):\n",
    "        # Loop over all batches\n",
    "        n_batches = 5\n",
    "        for batch_i in range(1, n_batches + 1):\n",
    "            for batch_features, batch_labels in helper.load_preprocess_training_batch(batch_i, batch_size):\n",
    "                train_neural_network(sess, optimizer, keep_probability, batch_features, batch_labels)\n",
    "            print('Epoch {:>2}, CIFAR-10 Batch {}:  '.format(epoch + 1, batch_i), end='')\n",
    "            print_stats(sess, batch_features, batch_labels, cost, accuracy)\n",
    "            \n",
    "    # Save Model\n",
    "    saver = tf.train.Saver()\n",
    "    save_path = saver.save(sess, save_model_path)"
   ]
  },
  {
   "cell_type": "markdown",
   "metadata": {
    "deletable": true,
    "editable": true
   },
   "source": [
    "# Checkpoint\n",
    "The model has been saved to disk.\n",
    "## Test Model\n",
    "Test your model against the test dataset.  This will be your final accuracy. You should have an accuracy greater than 50%. If you don't, keep tweaking the model architecture and parameters."
   ]
  },
  {
   "cell_type": "code",
   "execution_count": 379,
   "metadata": {
    "collapsed": false,
    "deletable": true,
    "editable": true
   },
   "outputs": [
    {
     "name": "stdout",
     "output_type": "stream",
     "text": [
      "Testing Accuracy: 0.6520965189873418\n",
      "\n"
     ]
    },
    {
     "data": {
      "image/png": "[encoded data removed]",
      "text/plain": [
       "<matplotlib.figure.Figure at 0x7f5e88b9b128>"
      ]
     },
     "metadata": {
      "image/png": {
       "height": 319,
       "width": 355
      }
     },
     "output_type": "display_data"
    }
   ],
   "source": [
    "\"\"\"\n",
    "DON'T MODIFY ANYTHING IN THIS CELL\n",
    "\"\"\"\n",
    "%matplotlib inline\n",
    "%config InlineBackend.figure_format = 'retina'\n",
    "\n",
    "import tensorflow as tf\n",
    "import pickle\n",
    "import helper\n",
    "import random\n",
    "\n",
    "# Set batch size if not already set\n",
    "try:\n",
    "    if batch_size:\n",
    "        pass\n",
    "except NameError:\n",
    "    batch_size = 64\n",
    "\n",
    "save_model_path = './image_classification'\n",
    "n_samples = 4\n",
    "top_n_predictions = 3\n",
    "\n",
    "def test_model():\n",
    "    \"\"\"\n",
    "    Test the saved model against the test dataset\n",
    "    \"\"\"\n",
    "\n",
    "    test_features, test_labels = pickle.load(open('preprocess_training.p', mode='rb'))\n",
    "    loaded_graph = tf.Graph()\n",
    "\n",
    "    with tf.Session(graph=loaded_graph) as sess:\n",
    "        # Load model\n",
    "        loader = tf.train.import_meta_graph(save_model_path + '.meta')\n",
    "        loader.restore(sess, save_model_path)\n",
    "\n",
    "        # Get Tensors from loaded model\n",
    "        loaded_x = loaded_graph.get_tensor_by_name('x:0')\n",
    "        loaded_y = loaded_graph.get_tensor_by_name('y:0')\n",
    "        loaded_keep_prob = loaded_graph.get_tensor_by_name('keep_prob:0')\n",
    "        loaded_logits = loaded_graph.get_tensor_by_name('logits:0')\n",
    "        loaded_acc = loaded_graph.get_tensor_by_name('accuracy:0')\n",
    "        \n",
    "        # Get accuracy in batches for memory limitations\n",
    "        test_batch_acc_total = 0\n",
    "        test_batch_count = 0\n",
    "        \n",
    "        for train_feature_batch, train_label_batch in helper.batch_features_labels(test_features, test_labels, batch_size):\n",
    "            test_batch_acc_total += sess.run(\n",
    "                loaded_acc,\n",
    "                feed_dict={loaded_x: train_feature_batch, loaded_y: train_label_batch, loaded_keep_prob: 1.0})\n",
    "            test_batch_count += 1\n",
    "\n",
    "        print('Testing Accuracy: {}\\n'.format(test_batch_acc_total/test_batch_count))\n",
    "\n",
    "        # Print Random Samples\n",
    "        random_test_features, random_test_labels = tuple(zip(*random.sample(list(zip(test_features, test_labels)), n_samples)))\n",
    "        random_test_predictions = sess.run(\n",
    "            tf.nn.top_k(tf.nn.softmax(loaded_logits), top_n_predictions),\n",
    "            feed_dict={loaded_x: random_test_features, loaded_y: random_test_labels, loaded_keep_prob: 1.0})\n",
    "        helper.display_image_predictions(random_test_features, random_test_labels, random_test_predictions)\n",
    "\n",
    "\n",
    "test_model()"
   ]
  },
  {
   "cell_type": "markdown",
   "metadata": {
    "deletable": true,
    "editable": true
   },
   "source": [
    "## Why 50-70% Accuracy?\n",
    "You might be wondering why you can't get an accuracy any higher. First things first, 50% isn't bad for a simple CNN.  Pure guessing would get you 10% accuracy. However, you might notice people are getting scores [well above 70%](http://rodrigob.github.io/are_we_there_yet/build/classification_datasets_results.html#43494641522d3130).  That's because we haven't taught you all there is to know about neural networks. We still need to cover a few more techniques.\n",
    "## Submitting This Project\n",
    "When submitting this project, make sure to run all the cells before saving the notebook.  Save the notebook file as \"dlnd_image_classification.ipynb\" and save it as a HTML file under \"File\" -> \"Download as\".  Include the \"helper.py\" and \"problem_unittests.py\" files in your submission."
   ]
  }
 ],
 "metadata": {
  "kernelspec": {
   "display_name": "Python 3",
   "language": "python",
   "name": "python3"
  },
  "language_info": {
   "codemirror_mode": {
    "name": "ipython",
    "version": 3
   },
   "file_extension": ".py",
   "mimetype": "text/x-python",
   "name": "python",
   "nbconvert_exporter": "python",
   "pygments_lexer": "ipython3",
   "version": "3.5.3"
  }
 },
 "nbformat": 4,
 "nbformat_minor": 0
}
